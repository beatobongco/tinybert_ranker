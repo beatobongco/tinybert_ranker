{
  "nbformat": 4,
  "nbformat_minor": 0,
  "metadata": {
    "colab": {
      "name": "TinyBERT.ipynb",
      "provenance": [],
      "collapsed_sections": [],
      "authorship_tag": "ABX9TyMlUnJIVQceFIvBKz3A8hPZ",
      "include_colab_link": true
    },
    "kernelspec": {
      "name": "python3",
      "display_name": "Python 3"
    },
    "accelerator": "GPU"
  },
  "cells": [
    {
      "cell_type": "markdown",
      "metadata": {
        "id": "view-in-github",
        "colab_type": "text"
      },
      "source": [
        "<a href=\"https://colab.research.google.com/github/beatobongco/tinybert_ranker/blob/main/TinyBERT.ipynb\" target=\"_parent\"><img src=\"https://colab.research.google.com/assets/colab-badge.svg\" alt=\"Open In Colab\"/></a>"
      ]
    },
    {
      "cell_type": "code",
      "metadata": {
        "id": "fAdCCLB-TAju",
        "colab": {
          "base_uri": "https://localhost:8080/",
          "height": 607
        },
        "outputId": "4ce4bfbb-508c-4a9f-c006-18788526d496"
      },
      "source": [
        "!pip install transformers"
      ],
      "execution_count": null,
      "outputs": [
        {
          "output_type": "stream",
          "text": [
            "Collecting transformers\n",
            "\u001b[?25l  Downloading https://files.pythonhosted.org/packages/d8/f4/9f93f06dd2c57c7cd7aa515ffbf9fcfd8a084b92285732289f4a5696dd91/transformers-3.2.0-py3-none-any.whl (1.0MB)\n",
            "\r\u001b[K     |▎                               | 10kB 21.8MB/s eta 0:00:01\r\u001b[K     |▋                               | 20kB 2.1MB/s eta 0:00:01\r\u001b[K     |█                               | 30kB 3.1MB/s eta 0:00:01\r\u001b[K     |█▎                              | 40kB 4.0MB/s eta 0:00:01\r\u001b[K     |█▋                              | 51kB 2.6MB/s eta 0:00:01\r\u001b[K     |██                              | 61kB 3.1MB/s eta 0:00:01\r\u001b[K     |██▎                             | 71kB 3.5MB/s eta 0:00:01\r\u001b[K     |██▋                             | 81kB 4.0MB/s eta 0:00:01\r\u001b[K     |███                             | 92kB 3.1MB/s eta 0:00:01\r\u001b[K     |███▎                            | 102kB 3.4MB/s eta 0:00:01\r\u001b[K     |███▋                            | 112kB 3.4MB/s eta 0:00:01\r\u001b[K     |███▉                            | 122kB 3.4MB/s eta 0:00:01\r\u001b[K     |████▏                           | 133kB 3.4MB/s eta 0:00:01\r\u001b[K     |████▌                           | 143kB 3.4MB/s eta 0:00:01\r\u001b[K     |████▉                           | 153kB 3.4MB/s eta 0:00:01\r\u001b[K     |█████▏                          | 163kB 3.4MB/s eta 0:00:01\r\u001b[K     |█████▌                          | 174kB 3.4MB/s eta 0:00:01\r\u001b[K     |█████▉                          | 184kB 3.4MB/s eta 0:00:01\r\u001b[K     |██████▏                         | 194kB 3.4MB/s eta 0:00:01\r\u001b[K     |██████▌                         | 204kB 3.4MB/s eta 0:00:01\r\u001b[K     |██████▉                         | 215kB 3.4MB/s eta 0:00:01\r\u001b[K     |███████▏                        | 225kB 3.4MB/s eta 0:00:01\r\u001b[K     |███████▍                        | 235kB 3.4MB/s eta 0:00:01\r\u001b[K     |███████▊                        | 245kB 3.4MB/s eta 0:00:01\r\u001b[K     |████████                        | 256kB 3.4MB/s eta 0:00:01\r\u001b[K     |████████▍                       | 266kB 3.4MB/s eta 0:00:01\r\u001b[K     |████████▊                       | 276kB 3.4MB/s eta 0:00:01\r\u001b[K     |█████████                       | 286kB 3.4MB/s eta 0:00:01\r\u001b[K     |█████████▍                      | 296kB 3.4MB/s eta 0:00:01\r\u001b[K     |█████████▊                      | 307kB 3.4MB/s eta 0:00:01\r\u001b[K     |██████████                      | 317kB 3.4MB/s eta 0:00:01\r\u001b[K     |██████████▍                     | 327kB 3.4MB/s eta 0:00:01\r\u001b[K     |██████████▊                     | 337kB 3.4MB/s eta 0:00:01\r\u001b[K     |███████████                     | 348kB 3.4MB/s eta 0:00:01\r\u001b[K     |███████████▎                    | 358kB 3.4MB/s eta 0:00:01\r\u001b[K     |███████████▋                    | 368kB 3.4MB/s eta 0:00:01\r\u001b[K     |████████████                    | 378kB 3.4MB/s eta 0:00:01\r\u001b[K     |████████████▎                   | 389kB 3.4MB/s eta 0:00:01\r\u001b[K     |████████████▋                   | 399kB 3.4MB/s eta 0:00:01\r\u001b[K     |█████████████                   | 409kB 3.4MB/s eta 0:00:01\r\u001b[K     |█████████████▎                  | 419kB 3.4MB/s eta 0:00:01\r\u001b[K     |█████████████▋                  | 430kB 3.4MB/s eta 0:00:01\r\u001b[K     |██████████████                  | 440kB 3.4MB/s eta 0:00:01\r\u001b[K     |██████████████▎                 | 450kB 3.4MB/s eta 0:00:01\r\u001b[K     |██████████████▋                 | 460kB 3.4MB/s eta 0:00:01\r\u001b[K     |██████████████▉                 | 471kB 3.4MB/s eta 0:00:01\r\u001b[K     |███████████████▏                | 481kB 3.4MB/s eta 0:00:01\r\u001b[K     |███████████████▌                | 491kB 3.4MB/s eta 0:00:01\r\u001b[K     |███████████████▉                | 501kB 3.4MB/s eta 0:00:01\r\u001b[K     |████████████████▏               | 512kB 3.4MB/s eta 0:00:01\r\u001b[K     |████████████████▌               | 522kB 3.4MB/s eta 0:00:01\r\u001b[K     |████████████████▉               | 532kB 3.4MB/s eta 0:00:01\r\u001b[K     |█████████████████▏              | 542kB 3.4MB/s eta 0:00:01\r\u001b[K     |█████████████████▌              | 552kB 3.4MB/s eta 0:00:01\r\u001b[K     |█████████████████▉              | 563kB 3.4MB/s eta 0:00:01\r\u001b[K     |██████████████████▏             | 573kB 3.4MB/s eta 0:00:01\r\u001b[K     |██████████████████▍             | 583kB 3.4MB/s eta 0:00:01\r\u001b[K     |██████████████████▊             | 593kB 3.4MB/s eta 0:00:01\r\u001b[K     |███████████████████             | 604kB 3.4MB/s eta 0:00:01\r\u001b[K     |███████████████████▍            | 614kB 3.4MB/s eta 0:00:01\r\u001b[K     |███████████████████▊            | 624kB 3.4MB/s eta 0:00:01\r\u001b[K     |████████████████████            | 634kB 3.4MB/s eta 0:00:01\r\u001b[K     |████████████████████▍           | 645kB 3.4MB/s eta 0:00:01\r\u001b[K     |████████████████████▊           | 655kB 3.4MB/s eta 0:00:01\r\u001b[K     |█████████████████████           | 665kB 3.4MB/s eta 0:00:01\r\u001b[K     |█████████████████████▍          | 675kB 3.4MB/s eta 0:00:01\r\u001b[K     |█████████████████████▊          | 686kB 3.4MB/s eta 0:00:01\r\u001b[K     |██████████████████████          | 696kB 3.4MB/s eta 0:00:01\r\u001b[K     |██████████████████████▎         | 706kB 3.4MB/s eta 0:00:01\r\u001b[K     |██████████████████████▋         | 716kB 3.4MB/s eta 0:00:01\r\u001b[K     |███████████████████████         | 727kB 3.4MB/s eta 0:00:01\r\u001b[K     |███████████████████████▎        | 737kB 3.4MB/s eta 0:00:01\r\u001b[K     |███████████████████████▋        | 747kB 3.4MB/s eta 0:00:01\r\u001b[K     |████████████████████████        | 757kB 3.4MB/s eta 0:00:01\r\u001b[K     |████████████████████████▎       | 768kB 3.4MB/s eta 0:00:01\r\u001b[K     |████████████████████████▋       | 778kB 3.4MB/s eta 0:00:01\r\u001b[K     |█████████████████████████       | 788kB 3.4MB/s eta 0:00:01\r\u001b[K     |█████████████████████████▎      | 798kB 3.4MB/s eta 0:00:01\r\u001b[K     |█████████████████████████▋      | 808kB 3.4MB/s eta 0:00:01\r\u001b[K     |█████████████████████████▉      | 819kB 3.4MB/s eta 0:00:01\r\u001b[K     |██████████████████████████▏     | 829kB 3.4MB/s eta 0:00:01\r\u001b[K     |██████████████████████████▌     | 839kB 3.4MB/s eta 0:00:01\r\u001b[K     |██████████████████████████▉     | 849kB 3.4MB/s eta 0:00:01\r\u001b[K     |███████████████████████████▏    | 860kB 3.4MB/s eta 0:00:01\r\u001b[K     |███████████████████████████▌    | 870kB 3.4MB/s eta 0:00:01\r\u001b[K     |███████████████████████████▉    | 880kB 3.4MB/s eta 0:00:01\r\u001b[K     |████████████████████████████▏   | 890kB 3.4MB/s eta 0:00:01\r\u001b[K     |████████████████████████████▌   | 901kB 3.4MB/s eta 0:00:01\r\u001b[K     |████████████████████████████▉   | 911kB 3.4MB/s eta 0:00:01\r\u001b[K     |█████████████████████████████▏  | 921kB 3.4MB/s eta 0:00:01\r\u001b[K     |█████████████████████████████▍  | 931kB 3.4MB/s eta 0:00:01\r\u001b[K     |█████████████████████████████▊  | 942kB 3.4MB/s eta 0:00:01\r\u001b[K     |██████████████████████████████  | 952kB 3.4MB/s eta 0:00:01\r\u001b[K     |██████████████████████████████▍ | 962kB 3.4MB/s eta 0:00:01\r\u001b[K     |██████████████████████████████▊ | 972kB 3.4MB/s eta 0:00:01\r\u001b[K     |███████████████████████████████ | 983kB 3.4MB/s eta 0:00:01\r\u001b[K     |███████████████████████████████▍| 993kB 3.4MB/s eta 0:00:01\r\u001b[K     |███████████████████████████████▊| 1.0MB 3.4MB/s eta 0:00:01\r\u001b[K     |████████████████████████████████| 1.0MB 3.4MB/s \n",
            "\u001b[?25hRequirement already satisfied: packaging in /usr/local/lib/python3.6/dist-packages (from transformers) (20.4)\n",
            "Collecting sentencepiece!=0.1.92\n",
            "\u001b[?25l  Downloading https://files.pythonhosted.org/packages/d4/a4/d0a884c4300004a78cca907a6ff9a5e9fe4f090f5d95ab341c53d28cbc58/sentencepiece-0.1.91-cp36-cp36m-manylinux1_x86_64.whl (1.1MB)\n",
            "\u001b[K     |████████████████████████████████| 1.1MB 38.5MB/s \n",
            "\u001b[?25hRequirement already satisfied: numpy in /usr/local/lib/python3.6/dist-packages (from transformers) (1.18.5)\n",
            "Requirement already satisfied: regex!=2019.12.17 in /usr/local/lib/python3.6/dist-packages (from transformers) (2019.12.20)\n",
            "Requirement already satisfied: tqdm>=4.27 in /usr/local/lib/python3.6/dist-packages (from transformers) (4.41.1)\n",
            "Collecting tokenizers==0.8.1.rc2\n",
            "\u001b[?25l  Downloading https://files.pythonhosted.org/packages/80/83/8b9fccb9e48eeb575ee19179e2bdde0ee9a1904f97de5f02d19016b8804f/tokenizers-0.8.1rc2-cp36-cp36m-manylinux1_x86_64.whl (3.0MB)\n",
            "\u001b[K     |████████████████████████████████| 3.0MB 35.5MB/s \n",
            "\u001b[?25hRequirement already satisfied: filelock in /usr/local/lib/python3.6/dist-packages (from transformers) (3.0.12)\n",
            "Requirement already satisfied: requests in /usr/local/lib/python3.6/dist-packages (from transformers) (2.23.0)\n",
            "Requirement already satisfied: dataclasses; python_version < \"3.7\" in /usr/local/lib/python3.6/dist-packages (from transformers) (0.7)\n",
            "Collecting sacremoses\n",
            "\u001b[?25l  Downloading https://files.pythonhosted.org/packages/7d/34/09d19aff26edcc8eb2a01bed8e98f13a1537005d31e95233fd48216eed10/sacremoses-0.0.43.tar.gz (883kB)\n",
            "\u001b[K     |████████████████████████████████| 890kB 43.3MB/s \n",
            "\u001b[?25hRequirement already satisfied: six in /usr/local/lib/python3.6/dist-packages (from packaging->transformers) (1.15.0)\n",
            "Requirement already satisfied: pyparsing>=2.0.2 in /usr/local/lib/python3.6/dist-packages (from packaging->transformers) (2.4.7)\n",
            "Requirement already satisfied: idna<3,>=2.5 in /usr/local/lib/python3.6/dist-packages (from requests->transformers) (2.10)\n",
            "Requirement already satisfied: chardet<4,>=3.0.2 in /usr/local/lib/python3.6/dist-packages (from requests->transformers) (3.0.4)\n",
            "Requirement already satisfied: certifi>=2017.4.17 in /usr/local/lib/python3.6/dist-packages (from requests->transformers) (2020.6.20)\n",
            "Requirement already satisfied: urllib3!=1.25.0,!=1.25.1,<1.26,>=1.21.1 in /usr/local/lib/python3.6/dist-packages (from requests->transformers) (1.24.3)\n",
            "Requirement already satisfied: click in /usr/local/lib/python3.6/dist-packages (from sacremoses->transformers) (7.1.2)\n",
            "Requirement already satisfied: joblib in /usr/local/lib/python3.6/dist-packages (from sacremoses->transformers) (0.16.0)\n",
            "Building wheels for collected packages: sacremoses\n",
            "  Building wheel for sacremoses (setup.py) ... \u001b[?25l\u001b[?25hdone\n",
            "  Created wheel for sacremoses: filename=sacremoses-0.0.43-cp36-none-any.whl size=893257 sha256=5206e739da7e7c9d3e7ff3859ac9a85103e6136f44a25857e9b788ae1b45f9ff\n",
            "  Stored in directory: /root/.cache/pip/wheels/29/3c/fd/7ce5c3f0666dab31a50123635e6fb5e19ceb42ce38d4e58f45\n",
            "Successfully built sacremoses\n",
            "Installing collected packages: sentencepiece, tokenizers, sacremoses, transformers\n",
            "Successfully installed sacremoses-0.0.43 sentencepiece-0.1.91 tokenizers-0.8.1rc2 transformers-3.2.0\n"
          ],
          "name": "stdout"
        }
      ]
    },
    {
      "cell_type": "code",
      "metadata": {
        "id": "xFJz_ystdgYQ",
        "colab": {
          "base_uri": "https://localhost:8080/",
          "height": 364
        },
        "outputId": "ad279ce8-036c-4e5f-b2f7-3f3d6eb1a1d5"
      },
      "source": [
        "!nvidia-smi"
      ],
      "execution_count": null,
      "outputs": [
        {
          "output_type": "stream",
          "text": [
            "Thu Sep 24 09:33:42 2020       \n",
            "+-----------------------------------------------------------------------------+\n",
            "| NVIDIA-SMI 450.66       Driver Version: 418.67       CUDA Version: 10.1     |\n",
            "|-------------------------------+----------------------+----------------------+\n",
            "| GPU  Name        Persistence-M| Bus-Id        Disp.A | Volatile Uncorr. ECC |\n",
            "| Fan  Temp  Perf  Pwr:Usage/Cap|         Memory-Usage | GPU-Util  Compute M. |\n",
            "|                               |                      |               MIG M. |\n",
            "|===============================+======================+======================|\n",
            "|   0  Tesla K80           Off  | 00000000:00:04.0 Off |                    0 |\n",
            "| N/A   49C    P0    60W / 149W |    769MiB / 11441MiB |      0%      Default |\n",
            "|                               |                      |                 ERR! |\n",
            "+-------------------------------+----------------------+----------------------+\n",
            "                                                                               \n",
            "+-----------------------------------------------------------------------------+\n",
            "| Processes:                                                                  |\n",
            "|  GPU   GI   CI        PID   Type   Process name                  GPU Memory |\n",
            "|        ID   ID                                                   Usage      |\n",
            "|=============================================================================|\n",
            "|  No running processes found                                                 |\n",
            "+-----------------------------------------------------------------------------+\n"
          ],
          "name": "stdout"
        }
      ]
    },
    {
      "cell_type": "code",
      "metadata": {
        "id": "oS0-AgSnS9E7",
        "colab": {
          "base_uri": "https://localhost:8080/",
          "height": 89
        },
        "outputId": "b62dab1c-d147-46d7-b54c-2e0141a847d2"
      },
      "source": [
        "import torch\n",
        "import numpy as np\n",
        "from typing import List, Tuple\n",
        "from transformers import AutoTokenizer, AutoModelForSequenceClassification\n",
        "\n",
        "class PTRanker:\n",
        "  \"\"\"Generic class for using pre-trained BERT-like models to rank\"\"\"\n",
        "  def __init__(self, model_path):\n",
        "    \"\"\"\n",
        "        model_path - actual path or huggingface model repo path\n",
        "    \"\"\"\n",
        "    self.max_seq_len = 512\n",
        "    self.device = torch.device(\"cuda\" if torch.cuda.is_available() else \"cpu\")\n",
        "    self.tokenizer = AutoTokenizer.from_pretrained(model_path)\n",
        "    self.rerank_model = AutoModelForSequenceClassification.from_pretrained(model_path).to(self.device, non_blocking=True)\n",
        "\n",
        "  def rank(self, query: str, choices: List[str], filter_results=False) -> Tuple[List[int], List[float]]:\n",
        "    \"\"\"Assigns relative ranks to each choice\"\"\"\n",
        "    if len(choices) == 0:\n",
        "        return [], []\n",
        "\n",
        "    logits = self.get_logits(query, choices)\n",
        "    scores = []\n",
        "    all_scores = []\n",
        "    index_map = []\n",
        "    for i, logit in enumerate(logits):\n",
        "        neg_logit = logit[0]\n",
        "        score = logit[1]\n",
        "        all_scores.append(score)\n",
        "        if score > neg_logit or not filter_results:\n",
        "            scores.append(score)\n",
        "            index_map.append(i)\n",
        "    sorted_indices = [index_map[i] for i in np.argsort(scores)[::-1]]\n",
        "    return sorted_indices, [all_scores[i] for i in sorted_indices]\n",
        "\n",
        "  def get_logits(self, query: str, choices: List[str]):\n",
        "    \"\"\"Get search ranking logits for query, choices\"\"\"\n",
        "    input_ids, attention_mask, token_type_ids = self.encode(query, choices)\n",
        "\n",
        "    with torch.no_grad():\n",
        "        logits = self.rerank_model(input_ids,\n",
        "                                    attention_mask=attention_mask,\n",
        "                                    token_type_ids=token_type_ids)[0]\n",
        "        logits = logits.detach().cpu().numpy()\n",
        "\n",
        "        return logits\n",
        "        \n",
        "  def encode(self, query: str, choices: List[str]):\n",
        "    \"\"\"Encode query text\"\"\"\n",
        "    inputs = [self.tokenizer.encode_plus(\n",
        "        query, choice, add_special_tokens=True, return_token_type_ids=True, \n",
        "        max_length=self.max_seq_len, truncation=True\n",
        "        ) for choice in choices]\n",
        "\n",
        "    max_len = min(max(len(t['input_ids']) for t in inputs), self.max_seq_len)\n",
        "    input_ids = [t['input_ids'][:max_len] +\n",
        "                  [0] * (max_len - len(t['input_ids'][:max_len])) for t in inputs]\n",
        "    attention_mask = [[1] * len(t['input_ids'][:max_len]) +\n",
        "                      [0] * (max_len - len(t['input_ids'][:max_len])) for t in inputs]\n",
        "    token_type_ids = [t['token_type_ids'][:max_len] +\n",
        "                  [0] * (max_len - len(t['token_type_ids'][:max_len])) for t in inputs]\n",
        "\n",
        "    input_ids = torch.tensor(input_ids).to(self.device, non_blocking=True)\n",
        "    attention_mask = torch.tensor(attention_mask).to(self.device, non_blocking=True)\n",
        "    token_type_ids = torch.tensor(token_type_ids).to(self.device, non_blocking=True)\n",
        "\n",
        "    return input_ids, attention_mask, token_type_ids\n",
        "\n",
        "model = PTRanker(\"nboost/pt-tinybert-msmarco\")"
      ],
      "execution_count": null,
      "outputs": [
        {
          "output_type": "stream",
          "text": [
            "Some weights of the model checkpoint at nboost/pt-tinybert-msmarco were not used when initializing BertForSequenceClassification: ['fit_dense.weight', 'fit_dense.bias']\n",
            "- This IS expected if you are initializing BertForSequenceClassification from the checkpoint of a model trained on another task or with another architecture (e.g. initializing a BertForSequenceClassification model from a BertForPretraining model).\n",
            "- This IS NOT expected if you are initializing BertForSequenceClassification from the checkpoint of a model that you expect to be exactly identical (initializing a BertForSequenceClassification model from a BertForSequenceClassification model).\n"
          ],
          "name": "stderr"
        }
      ]
    },
    {
      "cell_type": "code",
      "metadata": {
        "id": "cvv4iXrHTEje"
      },
      "source": [
        "choices = [\n",
        "  \"\"\"Daft Punk are a French electronic music duo formed in Paris in 1993 by Guy-Manuel de Homem-Christo and Thomas Bangalter.[5][6][7][8] They achieved popularity in the late 1990s as part of the French house movement; they also had success in the years following, combining elements of house music with funk, techno, disco, rock and synthpop.[2][6][7][9] They have worn ornate helmets and gloves to assume robot personas in most public appearances since 1999[10] and rarely grant interviews or appear on television. The duo were managed from 1996 to 2008 by Pedro Winter (also known as Busy P), the head of Ed Banger Records.\"\"\",\n",
        "  \"\"\"Tron (stylized as TRON) is a 1982 American science fiction action-adventure film written and directed by Steven Lisberger from a story by Lisberger and Bonnie MacBird. The film stars Jeff Bridges as a computer programmer who is transported inside the software world of a mainframe computer where he interacts with programs in his attempt to escape. Bruce Boxleitner, David Warner, Cindy Morgan, and Barnard Hughes star in supporting roles.\"\"\",\n",
        "  \"\"\"Joel Thomas Zimmerman (born January 5, 1981),[2] known professionally as Deadmau5 (stylized as deadmau5; pronounced \"dead mouse\"), is a Canadian electronic music producer, DJ, and musician. Zimmerman mainly produces progressive house music, though he also produces and DJs other genres of electronic music, including techno under the alias Testpilot. Zimmerman has received six Grammy Award nominations for his work.\"\"\",\n",
        "  \"Daft punk is cool\",\n",
        "  \"A French electronic music duo formed in Paris in 1993 by Guy-Manuel de Homem-Christo and Thomas Bangalter.\",\n",
        "  \"A French electronic music duo consisting of Gaspard Augé and Xavier de Rosnay.\"\n",
        "]"
      ],
      "execution_count": null,
      "outputs": []
    },
    {
      "cell_type": "code",
      "metadata": {
        "id": "pdyJDpieTcd8"
      },
      "source": [
        "def rerank(query, choices=choices, filter_results=False):\n",
        "  print(f\"Query: {query}, filter: {filter_results}\")\n",
        "  ranks, scores = model.rank(query, choices, filter_results=filter_results)\n",
        "  for i, rs in enumerate(zip(ranks, scores)):\n",
        "    rank, score = rs\n",
        "    print(f\"{i + 1}. ({score}) {choices[int(rank)]}\")\n",
        "  print(\"---\")"
      ],
      "execution_count": null,
      "outputs": []
    },
    {
      "cell_type": "code",
      "metadata": {
        "id": "o9swTaXeZXgB",
        "colab": {
          "base_uri": "https://localhost:8080/",
          "height": 575
        },
        "outputId": "525d720f-dd29-4020-a905-927d017a86ca"
      },
      "source": [
        "rerank(\"Who is daft punk?\", filter_results=True)\n",
        "rerank(\"Who is deadmau5?\")\n",
        "rerank(\"Who is deadmau5?\", filter_results=True)\n",
        "rerank(\"sci-fi\")\n",
        "rerank(\"electronic music\")"
      ],
      "execution_count": null,
      "outputs": [
        {
          "output_type": "stream",
          "text": [
            "Query: Who is daft punk?, filter: True\n",
            "1. (1.4061083793640137) Daft Punk are a French electronic music duo formed in Paris in 1993 by Guy-Manuel de Homem-Christo and Thomas Bangalter.[5][6][7][8] They achieved popularity in the late 1990s as part of the French house movement; they also had success in the years following, combining elements of house music with funk, techno, disco, rock and synthpop.[2][6][7][9] They have worn ornate helmets and gloves to assume robot personas in most public appearances since 1999[10] and rarely grant interviews or appear on television. The duo were managed from 1996 to 2008 by Pedro Winter (also known as Busy P), the head of Ed Banger Records.\n",
            "2. (1.3816384077072144) Daft punk is cool\n",
            "---\n",
            "Query: Who is deadmau5?, filter: False\n",
            "1. (1.3276888132095337) Joel Thomas Zimmerman (born January 5, 1981),[2] known professionally as Deadmau5 (stylized as deadmau5; pronounced \"dead mouse\"), is a Canadian electronic music producer, DJ, and musician. Zimmerman mainly produces progressive house music, though he also produces and DJs other genres of electronic music, including techno under the alias Testpilot. Zimmerman has received six Grammy Award nominations for his work.\n",
            "2. (-1.8822646141052246) Tron (stylized as TRON) is a 1982 American science fiction action-adventure film written and directed by Steven Lisberger from a story by Lisberger and Bonnie MacBird. The film stars Jeff Bridges as a computer programmer who is transported inside the software world of a mainframe computer where he interacts with programs in his attempt to escape. Bruce Boxleitner, David Warner, Cindy Morgan, and Barnard Hughes star in supporting roles.\n",
            "3. (-1.9584623575210571) Daft Punk are a French electronic music duo formed in Paris in 1993 by Guy-Manuel de Homem-Christo and Thomas Bangalter.[5][6][7][8] They achieved popularity in the late 1990s as part of the French house movement; they also had success in the years following, combining elements of house music with funk, techno, disco, rock and synthpop.[2][6][7][9] They have worn ornate helmets and gloves to assume robot personas in most public appearances since 1999[10] and rarely grant interviews or appear on television. The duo were managed from 1996 to 2008 by Pedro Winter (also known as Busy P), the head of Ed Banger Records.\n",
            "4. (-1.9855213165283203) A French electronic music duo formed in Paris in 1993 by Guy-Manuel de Homem-Christo and Thomas Bangalter.\n",
            "5. (-1.9858150482177734) A French electronic music duo consisting of Gaspard Augé and Xavier de Rosnay.\n",
            "6. (-2.045635223388672) Daft punk is cool\n",
            "---\n",
            "Query: Who is deadmau5?, filter: True\n",
            "1. (1.3276888132095337) Joel Thomas Zimmerman (born January 5, 1981),[2] known professionally as Deadmau5 (stylized as deadmau5; pronounced \"dead mouse\"), is a Canadian electronic music producer, DJ, and musician. Zimmerman mainly produces progressive house music, though he also produces and DJs other genres of electronic music, including techno under the alias Testpilot. Zimmerman has received six Grammy Award nominations for his work.\n",
            "---\n",
            "Query: sci-fi, filter: False\n",
            "1. (-1.6495808362960815) Tron (stylized as TRON) is a 1982 American science fiction action-adventure film written and directed by Steven Lisberger from a story by Lisberger and Bonnie MacBird. The film stars Jeff Bridges as a computer programmer who is transported inside the software world of a mainframe computer where he interacts with programs in his attempt to escape. Bruce Boxleitner, David Warner, Cindy Morgan, and Barnard Hughes star in supporting roles.\n",
            "2. (-1.7715463638305664) A French electronic music duo consisting of Gaspard Augé and Xavier de Rosnay.\n",
            "3. (-1.9145407676696777) Daft Punk are a French electronic music duo formed in Paris in 1993 by Guy-Manuel de Homem-Christo and Thomas Bangalter.[5][6][7][8] They achieved popularity in the late 1990s as part of the French house movement; they also had success in the years following, combining elements of house music with funk, techno, disco, rock and synthpop.[2][6][7][9] They have worn ornate helmets and gloves to assume robot personas in most public appearances since 1999[10] and rarely grant interviews or appear on television. The duo were managed from 1996 to 2008 by Pedro Winter (also known as Busy P), the head of Ed Banger Records.\n",
            "4. (-1.9174516201019287) Joel Thomas Zimmerman (born January 5, 1981),[2] known professionally as Deadmau5 (stylized as deadmau5; pronounced \"dead mouse\"), is a Canadian electronic music producer, DJ, and musician. Zimmerman mainly produces progressive house music, though he also produces and DJs other genres of electronic music, including techno under the alias Testpilot. Zimmerman has received six Grammy Award nominations for his work.\n",
            "5. (-1.9206243753433228) Daft punk is cool\n",
            "6. (-1.94899582862854) A French electronic music duo formed in Paris in 1993 by Guy-Manuel de Homem-Christo and Thomas Bangalter.\n",
            "---\n",
            "Query: electronic music, filter: False\n",
            "1. (0.9173581600189209) A French electronic music duo consisting of Gaspard Augé and Xavier de Rosnay.\n",
            "2. (0.8081389665603638) A French electronic music duo formed in Paris in 1993 by Guy-Manuel de Homem-Christo and Thomas Bangalter.\n",
            "3. (-0.03710199519991875) Daft Punk are a French electronic music duo formed in Paris in 1993 by Guy-Manuel de Homem-Christo and Thomas Bangalter.[5][6][7][8] They achieved popularity in the late 1990s as part of the French house movement; they also had success in the years following, combining elements of house music with funk, techno, disco, rock and synthpop.[2][6][7][9] They have worn ornate helmets and gloves to assume robot personas in most public appearances since 1999[10] and rarely grant interviews or appear on television. The duo were managed from 1996 to 2008 by Pedro Winter (also known as Busy P), the head of Ed Banger Records.\n",
            "4. (-0.7726452350616455) Joel Thomas Zimmerman (born January 5, 1981),[2] known professionally as Deadmau5 (stylized as deadmau5; pronounced \"dead mouse\"), is a Canadian electronic music producer, DJ, and musician. Zimmerman mainly produces progressive house music, though he also produces and DJs other genres of electronic music, including techno under the alias Testpilot. Zimmerman has received six Grammy Award nominations for his work.\n",
            "5. (-1.3724346160888672) Daft punk is cool\n",
            "6. (-1.9345242977142334) Tron (stylized as TRON) is a 1982 American science fiction action-adventure film written and directed by Steven Lisberger from a story by Lisberger and Bonnie MacBird. The film stars Jeff Bridges as a computer programmer who is transported inside the software world of a mainframe computer where he interacts with programs in his attempt to escape. Bruce Boxleitner, David Warner, Cindy Morgan, and Barnard Hughes star in supporting roles.\n",
            "---\n"
          ],
          "name": "stdout"
        }
      ]
    },
    {
      "cell_type": "code",
      "metadata": {
        "id": "HOyaveh3Vlkq",
        "colab": {
          "base_uri": "https://localhost:8080/",
          "height": 975
        },
        "outputId": "4bb11172-b7c9-46dd-dfa4-9f01f044e30a"
      },
      "source": [
        "# Test reranking on 50 choices\n",
        "%%time\n",
        "rerank(\"Who is daft punk?\", choices=(choices * 9)[:50])"
      ],
      "execution_count": null,
      "outputs": [
        {
          "output_type": "stream",
          "text": [
            "Query: Who is daft punk?, filter: False\n",
            "1. (1.4061083793640137) Daft Punk are a French electronic music duo formed in Paris in 1993 by Guy-Manuel de Homem-Christo and Thomas Bangalter.[5][6][7][8] They achieved popularity in the late 1990s as part of the French house movement; they also had success in the years following, combining elements of house music with funk, techno, disco, rock and synthpop.[2][6][7][9] They have worn ornate helmets and gloves to assume robot personas in most public appearances since 1999[10] and rarely grant interviews or appear on television. The duo were managed from 1996 to 2008 by Pedro Winter (also known as Busy P), the head of Ed Banger Records.\n",
            "2. (1.4061083793640137) Daft Punk are a French electronic music duo formed in Paris in 1993 by Guy-Manuel de Homem-Christo and Thomas Bangalter.[5][6][7][8] They achieved popularity in the late 1990s as part of the French house movement; they also had success in the years following, combining elements of house music with funk, techno, disco, rock and synthpop.[2][6][7][9] They have worn ornate helmets and gloves to assume robot personas in most public appearances since 1999[10] and rarely grant interviews or appear on television. The duo were managed from 1996 to 2008 by Pedro Winter (also known as Busy P), the head of Ed Banger Records.\n",
            "3. (1.4061083793640137) Daft Punk are a French electronic music duo formed in Paris in 1993 by Guy-Manuel de Homem-Christo and Thomas Bangalter.[5][6][7][8] They achieved popularity in the late 1990s as part of the French house movement; they also had success in the years following, combining elements of house music with funk, techno, disco, rock and synthpop.[2][6][7][9] They have worn ornate helmets and gloves to assume robot personas in most public appearances since 1999[10] and rarely grant interviews or appear on television. The duo were managed from 1996 to 2008 by Pedro Winter (also known as Busy P), the head of Ed Banger Records.\n",
            "4. (1.4061083793640137) Daft Punk are a French electronic music duo formed in Paris in 1993 by Guy-Manuel de Homem-Christo and Thomas Bangalter.[5][6][7][8] They achieved popularity in the late 1990s as part of the French house movement; they also had success in the years following, combining elements of house music with funk, techno, disco, rock and synthpop.[2][6][7][9] They have worn ornate helmets and gloves to assume robot personas in most public appearances since 1999[10] and rarely grant interviews or appear on television. The duo were managed from 1996 to 2008 by Pedro Winter (also known as Busy P), the head of Ed Banger Records.\n",
            "5. (1.4061083793640137) Daft Punk are a French electronic music duo formed in Paris in 1993 by Guy-Manuel de Homem-Christo and Thomas Bangalter.[5][6][7][8] They achieved popularity in the late 1990s as part of the French house movement; they also had success in the years following, combining elements of house music with funk, techno, disco, rock and synthpop.[2][6][7][9] They have worn ornate helmets and gloves to assume robot personas in most public appearances since 1999[10] and rarely grant interviews or appear on television. The duo were managed from 1996 to 2008 by Pedro Winter (also known as Busy P), the head of Ed Banger Records.\n",
            "6. (1.4061083793640137) Daft Punk are a French electronic music duo formed in Paris in 1993 by Guy-Manuel de Homem-Christo and Thomas Bangalter.[5][6][7][8] They achieved popularity in the late 1990s as part of the French house movement; they also had success in the years following, combining elements of house music with funk, techno, disco, rock and synthpop.[2][6][7][9] They have worn ornate helmets and gloves to assume robot personas in most public appearances since 1999[10] and rarely grant interviews or appear on television. The duo were managed from 1996 to 2008 by Pedro Winter (also known as Busy P), the head of Ed Banger Records.\n",
            "7. (1.4061083793640137) Daft Punk are a French electronic music duo formed in Paris in 1993 by Guy-Manuel de Homem-Christo and Thomas Bangalter.[5][6][7][8] They achieved popularity in the late 1990s as part of the French house movement; they also had success in the years following, combining elements of house music with funk, techno, disco, rock and synthpop.[2][6][7][9] They have worn ornate helmets and gloves to assume robot personas in most public appearances since 1999[10] and rarely grant interviews or appear on television. The duo were managed from 1996 to 2008 by Pedro Winter (also known as Busy P), the head of Ed Banger Records.\n",
            "8. (1.4061083793640137) Daft Punk are a French electronic music duo formed in Paris in 1993 by Guy-Manuel de Homem-Christo and Thomas Bangalter.[5][6][7][8] They achieved popularity in the late 1990s as part of the French house movement; they also had success in the years following, combining elements of house music with funk, techno, disco, rock and synthpop.[2][6][7][9] They have worn ornate helmets and gloves to assume robot personas in most public appearances since 1999[10] and rarely grant interviews or appear on television. The duo were managed from 1996 to 2008 by Pedro Winter (also known as Busy P), the head of Ed Banger Records.\n",
            "9. (1.4061083793640137) Daft Punk are a French electronic music duo formed in Paris in 1993 by Guy-Manuel de Homem-Christo and Thomas Bangalter.[5][6][7][8] They achieved popularity in the late 1990s as part of the French house movement; they also had success in the years following, combining elements of house music with funk, techno, disco, rock and synthpop.[2][6][7][9] They have worn ornate helmets and gloves to assume robot personas in most public appearances since 1999[10] and rarely grant interviews or appear on television. The duo were managed from 1996 to 2008 by Pedro Winter (also known as Busy P), the head of Ed Banger Records.\n",
            "10. (1.3816384077072144) Daft punk is cool\n",
            "11. (1.3816384077072144) Daft punk is cool\n",
            "12. (1.3816384077072144) Daft punk is cool\n",
            "13. (1.3816384077072144) Daft punk is cool\n",
            "14. (1.3816384077072144) Daft punk is cool\n",
            "15. (1.3816384077072144) Daft punk is cool\n",
            "16. (1.3816384077072144) Daft punk is cool\n",
            "17. (1.3816384077072144) Daft punk is cool\n",
            "18. (-1.888484001159668) A French electronic music duo consisting of Gaspard Augé and Xavier de Rosnay.\n",
            "19. (-1.888484001159668) A French electronic music duo consisting of Gaspard Augé and Xavier de Rosnay.\n",
            "20. (-1.888484001159668) A French electronic music duo consisting of Gaspard Augé and Xavier de Rosnay.\n",
            "21. (-1.888484001159668) A French electronic music duo consisting of Gaspard Augé and Xavier de Rosnay.\n",
            "22. (-1.888484001159668) A French electronic music duo consisting of Gaspard Augé and Xavier de Rosnay.\n",
            "23. (-1.888484001159668) A French electronic music duo consisting of Gaspard Augé and Xavier de Rosnay.\n",
            "24. (-1.888484001159668) A French electronic music duo consisting of Gaspard Augé and Xavier de Rosnay.\n",
            "25. (-1.888484001159668) A French electronic music duo consisting of Gaspard Augé and Xavier de Rosnay.\n",
            "26. (-1.8958017826080322) Joel Thomas Zimmerman (born January 5, 1981),[2] known professionally as Deadmau5 (stylized as deadmau5; pronounced \"dead mouse\"), is a Canadian electronic music producer, DJ, and musician. Zimmerman mainly produces progressive house music, though he also produces and DJs other genres of electronic music, including techno under the alias Testpilot. Zimmerman has received six Grammy Award nominations for his work.\n",
            "27. (-1.8958017826080322) Joel Thomas Zimmerman (born January 5, 1981),[2] known professionally as Deadmau5 (stylized as deadmau5; pronounced \"dead mouse\"), is a Canadian electronic music producer, DJ, and musician. Zimmerman mainly produces progressive house music, though he also produces and DJs other genres of electronic music, including techno under the alias Testpilot. Zimmerman has received six Grammy Award nominations for his work.\n",
            "28. (-1.8958017826080322) Joel Thomas Zimmerman (born January 5, 1981),[2] known professionally as Deadmau5 (stylized as deadmau5; pronounced \"dead mouse\"), is a Canadian electronic music producer, DJ, and musician. Zimmerman mainly produces progressive house music, though he also produces and DJs other genres of electronic music, including techno under the alias Testpilot. Zimmerman has received six Grammy Award nominations for his work.\n",
            "29. (-1.8958017826080322) Joel Thomas Zimmerman (born January 5, 1981),[2] known professionally as Deadmau5 (stylized as deadmau5; pronounced \"dead mouse\"), is a Canadian electronic music producer, DJ, and musician. Zimmerman mainly produces progressive house music, though he also produces and DJs other genres of electronic music, including techno under the alias Testpilot. Zimmerman has received six Grammy Award nominations for his work.\n",
            "30. (-1.8958017826080322) Joel Thomas Zimmerman (born January 5, 1981),[2] known professionally as Deadmau5 (stylized as deadmau5; pronounced \"dead mouse\"), is a Canadian electronic music producer, DJ, and musician. Zimmerman mainly produces progressive house music, though he also produces and DJs other genres of electronic music, including techno under the alias Testpilot. Zimmerman has received six Grammy Award nominations for his work.\n",
            "31. (-1.8958017826080322) Joel Thomas Zimmerman (born January 5, 1981),[2] known professionally as Deadmau5 (stylized as deadmau5; pronounced \"dead mouse\"), is a Canadian electronic music producer, DJ, and musician. Zimmerman mainly produces progressive house music, though he also produces and DJs other genres of electronic music, including techno under the alias Testpilot. Zimmerman has received six Grammy Award nominations for his work.\n",
            "32. (-1.8958017826080322) Joel Thomas Zimmerman (born January 5, 1981),[2] known professionally as Deadmau5 (stylized as deadmau5; pronounced \"dead mouse\"), is a Canadian electronic music producer, DJ, and musician. Zimmerman mainly produces progressive house music, though he also produces and DJs other genres of electronic music, including techno under the alias Testpilot. Zimmerman has received six Grammy Award nominations for his work.\n",
            "33. (-1.8958017826080322) Joel Thomas Zimmerman (born January 5, 1981),[2] known professionally as Deadmau5 (stylized as deadmau5; pronounced \"dead mouse\"), is a Canadian electronic music producer, DJ, and musician. Zimmerman mainly produces progressive house music, though he also produces and DJs other genres of electronic music, including techno under the alias Testpilot. Zimmerman has received six Grammy Award nominations for his work.\n",
            "34. (-1.9144498109817505) Tron (stylized as TRON) is a 1982 American science fiction action-adventure film written and directed by Steven Lisberger from a story by Lisberger and Bonnie MacBird. The film stars Jeff Bridges as a computer programmer who is transported inside the software world of a mainframe computer where he interacts with programs in his attempt to escape. Bruce Boxleitner, David Warner, Cindy Morgan, and Barnard Hughes star in supporting roles.\n",
            "35. (-1.9144498109817505) Tron (stylized as TRON) is a 1982 American science fiction action-adventure film written and directed by Steven Lisberger from a story by Lisberger and Bonnie MacBird. The film stars Jeff Bridges as a computer programmer who is transported inside the software world of a mainframe computer where he interacts with programs in his attempt to escape. Bruce Boxleitner, David Warner, Cindy Morgan, and Barnard Hughes star in supporting roles.\n",
            "36. (-1.9144498109817505) Tron (stylized as TRON) is a 1982 American science fiction action-adventure film written and directed by Steven Lisberger from a story by Lisberger and Bonnie MacBird. The film stars Jeff Bridges as a computer programmer who is transported inside the software world of a mainframe computer where he interacts with programs in his attempt to escape. Bruce Boxleitner, David Warner, Cindy Morgan, and Barnard Hughes star in supporting roles.\n",
            "37. (-1.9144498109817505) Tron (stylized as TRON) is a 1982 American science fiction action-adventure film written and directed by Steven Lisberger from a story by Lisberger and Bonnie MacBird. The film stars Jeff Bridges as a computer programmer who is transported inside the software world of a mainframe computer where he interacts with programs in his attempt to escape. Bruce Boxleitner, David Warner, Cindy Morgan, and Barnard Hughes star in supporting roles.\n",
            "38. (-1.9144498109817505) Tron (stylized as TRON) is a 1982 American science fiction action-adventure film written and directed by Steven Lisberger from a story by Lisberger and Bonnie MacBird. The film stars Jeff Bridges as a computer programmer who is transported inside the software world of a mainframe computer where he interacts with programs in his attempt to escape. Bruce Boxleitner, David Warner, Cindy Morgan, and Barnard Hughes star in supporting roles.\n",
            "39. (-1.9144498109817505) Tron (stylized as TRON) is a 1982 American science fiction action-adventure film written and directed by Steven Lisberger from a story by Lisberger and Bonnie MacBird. The film stars Jeff Bridges as a computer programmer who is transported inside the software world of a mainframe computer where he interacts with programs in his attempt to escape. Bruce Boxleitner, David Warner, Cindy Morgan, and Barnard Hughes star in supporting roles.\n",
            "40. (-1.9144498109817505) Tron (stylized as TRON) is a 1982 American science fiction action-adventure film written and directed by Steven Lisberger from a story by Lisberger and Bonnie MacBird. The film stars Jeff Bridges as a computer programmer who is transported inside the software world of a mainframe computer where he interacts with programs in his attempt to escape. Bruce Boxleitner, David Warner, Cindy Morgan, and Barnard Hughes star in supporting roles.\n",
            "41. (-1.9144498109817505) Tron (stylized as TRON) is a 1982 American science fiction action-adventure film written and directed by Steven Lisberger from a story by Lisberger and Bonnie MacBird. The film stars Jeff Bridges as a computer programmer who is transported inside the software world of a mainframe computer where he interacts with programs in his attempt to escape. Bruce Boxleitner, David Warner, Cindy Morgan, and Barnard Hughes star in supporting roles.\n",
            "42. (-1.9144498109817505) Tron (stylized as TRON) is a 1982 American science fiction action-adventure film written and directed by Steven Lisberger from a story by Lisberger and Bonnie MacBird. The film stars Jeff Bridges as a computer programmer who is transported inside the software world of a mainframe computer where he interacts with programs in his attempt to escape. Bruce Boxleitner, David Warner, Cindy Morgan, and Barnard Hughes star in supporting roles.\n",
            "43. (-1.9255839586257935) A French electronic music duo formed in Paris in 1993 by Guy-Manuel de Homem-Christo and Thomas Bangalter.\n",
            "44. (-1.9255839586257935) A French electronic music duo formed in Paris in 1993 by Guy-Manuel de Homem-Christo and Thomas Bangalter.\n",
            "45. (-1.9255839586257935) A French electronic music duo formed in Paris in 1993 by Guy-Manuel de Homem-Christo and Thomas Bangalter.\n",
            "46. (-1.9255839586257935) A French electronic music duo formed in Paris in 1993 by Guy-Manuel de Homem-Christo and Thomas Bangalter.\n",
            "47. (-1.9255839586257935) A French electronic music duo formed in Paris in 1993 by Guy-Manuel de Homem-Christo and Thomas Bangalter.\n",
            "48. (-1.9255839586257935) A French electronic music duo formed in Paris in 1993 by Guy-Manuel de Homem-Christo and Thomas Bangalter.\n",
            "49. (-1.9255839586257935) A French electronic music duo formed in Paris in 1993 by Guy-Manuel de Homem-Christo and Thomas Bangalter.\n",
            "50. (-1.9255839586257935) A French electronic music duo formed in Paris in 1993 by Guy-Manuel de Homem-Christo and Thomas Bangalter.\n",
            "---\n",
            "CPU times: user 134 ms, sys: 53.2 ms, total: 187 ms\n",
            "Wall time: 188 ms\n"
          ],
          "name": "stdout"
        }
      ]
    },
    {
      "cell_type": "code",
      "metadata": {
        "id": "iQ5aj0DHdhDp"
      },
      "source": [
        ""
      ],
      "execution_count": null,
      "outputs": []
    }
  ]
}